{
 "cells": [
  {
   "cell_type": "code",
   "execution_count": 1,
   "metadata": {},
   "outputs": [
    {
     "name": "stderr",
     "output_type": "stream",
     "text": [
      "Using TensorFlow backend.\n"
     ]
    }
   ],
   "source": [
    "import keras\n",
    "from keras.datasets import mnist\n",
    "from keras.models import Sequential\n",
    "from keras.layers import Dense, Dropout, Flatten\n",
    "from keras.layers import Conv2D, MaxPooling2D\n",
    "import numpy as np\n",
    "import pandas as pd\n",
    "import imageio"
   ]
  },
  {
   "cell_type": "code",
   "execution_count": 2,
   "metadata": {},
   "outputs": [
    {
     "name": "stdout",
     "output_type": "stream",
     "text": [
      "('y_train shape:', (6691, 2))\n"
     ]
    },
    {
     "name": "stderr",
     "output_type": "stream",
     "text": [
      "/usr/local/lib/python2.7/dist-packages/imageio/plugins/_tifffile.py:7285: UserWarning: 'module' object has no attribute 'decode_packbits'\n",
      "  Functionality might be degraded or be slow.\n",
      "\n",
      "  warnings.warn(\"%s%s\" % (e, warn))\n",
      "/usr/local/lib/python2.7/dist-packages/imageio/plugins/_tifffile.py:7285: UserWarning: 'module' object has no attribute 'decode_lzw'\n",
      "  Functionality might be degraded or be slow.\n",
      "\n",
      "  warnings.warn(\"%s%s\" % (e, warn))\n",
      "/usr/local/lib/python2.7/dist-packages/imageio/plugins/_tifffile.py:7285: UserWarning: 'module' object has no attribute 'unpack_ints'\n",
      "  Functionality might be degraded or be slow.\n",
      "\n",
      "  warnings.warn(\"%s%s\" % (e, warn))\n",
      "/usr/local/lib/python2.7/dist-packages/imageio/plugins/_tifffile.py:7285: UserWarning: 'module' object has no attribute 'reverse_bitorder'\n",
      "  Functionality might be degraded or be slow.\n",
      "\n",
      "  warnings.warn(\"%s%s\" % (e, warn))\n"
     ]
    },
    {
     "name": "stdout",
     "output_type": "stream",
     "text": [
      "('x_train shape:', (6691, 64, 64, 1))\n",
      "(6691, 'train samples')\n",
      "('a:', (6691,))\n",
      "('b:', (6691,))\n",
      "(5691, 64, 64, 1)\n",
      "(1000, 2)\n"
     ]
    }
   ],
   "source": [
    "batch_size = 128 \n",
    "\n",
    "#num_classes = 10 \n",
    "num_classes = 2 #output classes 2\n",
    "epochs = 2\n",
    "\n",
    "# input image dimensions\n",
    "#img_rows, img_cols = 28, 28 # 64 rows, 64 columns\n",
    "img_rows, img_cols = 64, 64\n",
    "\n",
    "\n",
    "# the data, split between train and test sets\n",
    "#(x_train, y_train), (x_test, y_test) = mnist.load_data()\n",
    "\n",
    "data = pd.read_csv('malignancy.csv')\n",
    "data.head()\n",
    "a=data['malignancy'].values\n",
    "b=data['benign'].values\n",
    "y= np.array([a , b])\n",
    "y_train= np.transpose(y)\n",
    "\n",
    "print('y_train shape:', y_train.shape)\n",
    "\n",
    "\n",
    "#x_train = x_train.reshape(6691,64,64,1)    \n",
    "\n",
    "im=imageio.mimread('ct_tiles.tif')\n",
    "x_train = np.array(im) \n",
    "\n",
    "x_train = x_train.reshape(6691,64,64,1)    \n",
    "\n",
    "#x_train = x_train.reshape(60000,28,28,1)\n",
    "#x_test = x_test.reshape(10000,28,28,1)\n",
    "\n",
    "print('x_train shape:', x_train.shape)\n",
    "print(x_train.shape[0], 'train samples')\n",
    "#print(x_test.shape[0], 'test samples')\n",
    "\n",
    "print('a:', a.shape)\n",
    "print('b:', b.shape)\n",
    "#print(x_train.shape[0], 'train samples')\n",
    "\n",
    "# convert class vectors to binary class matrices\n",
    "#y_train = keras.utils.to_categorical(y_train, num_classes)\n",
    "#y_test = keras.utils.to_categorical(y_test, num_classes)\n",
    "\n",
    "#print('y_train shape:', y_train.shape)\n",
    "print(x_train[1000:].shape)\n",
    "\n",
    "print(y_train[0:1000].shape)\n",
    "#print(y_test.shape[0], 'test samples')"
   ]
  },
  {
   "cell_type": "code",
   "execution_count": 3,
   "metadata": {},
   "outputs": [],
   "source": [
    "model = Sequential()\n",
    "model.add(Conv2D(16, kernel_size=(4, 4),\n",
    "                 activation='relu',\n",
    "                 input_shape=(64,64,1)))\n",
    "model.add(Conv2D(64, (3, 3), activation='relu'))\n",
    "model.add(MaxPooling2D(pool_size=(2, 2)))\n",
    "model.add(Dropout(0.00001))\n",
    "model.add(Flatten())\n",
    "model.add(Dense(128, activation='relu'))\n",
    "model.add(Dropout(0.5))\n",
    "model.add(Dense(num_classes, activation='softmax'))"
   ]
  },
  {
   "cell_type": "code",
   "execution_count": 4,
   "metadata": {},
   "outputs": [
    {
     "name": "stdout",
     "output_type": "stream",
     "text": [
      "(99, 64, 64, 1)\n",
      "(99, 2)\n",
      "(500, 64, 64, 1)\n",
      "(500, 2)\n"
     ]
    }
   ],
   "source": [
    "x_val = x_train[501:600]\n",
    "print (x_val.shape)\n",
    "x_val_partial = x_train[601:6690]\n",
    "\n",
    "y_val = y_train[501:600]\n",
    "print (y_val.shape)\n",
    "y_val_partial = y_train[601:6690]\n",
    "\n",
    "x_test = x_train[0:500]\n",
    "y_test = y_train[0:500]\n",
    "\n",
    "print(x_test.shape)\n",
    "print(y_test.shape)"
   ]
  },
  {
   "cell_type": "code",
   "execution_count": 5,
   "metadata": {
    "scrolled": true
   },
   "outputs": [
    {
     "name": "stdout",
     "output_type": "stream",
     "text": [
      "Train on 6089 samples, validate on 99 samples\n",
      "Epoch 1/2\n",
      "6089/6089 [==============================] - 46s 7ms/step - loss: 5.2330 - acc: 0.6752 - val_loss: 16.1181 - val_acc: 0.0000e+00\n",
      "Epoch 2/2\n",
      "6089/6089 [==============================] - 44s 7ms/step - loss: 5.1089 - acc: 0.6830 - val_loss: 16.1181 - val_acc: 0.0000e+00\n"
     ]
    }
   ],
   "source": [
    "model.compile(loss=keras.losses.categorical_crossentropy,\n",
    "              optimizer=keras.optimizers.Adadelta(),\n",
    "              metrics=['accuracy'])\n",
    "\n",
    "history=model.fit(x_val_partial, y_val_partial,\n",
    "          batch_size=batch_size,\n",
    "          epochs=epochs,\n",
    "          verbose=1,\n",
    "          validation_data=(x_val, y_val))\n"
   ]
  },
  {
   "cell_type": "code",
   "execution_count": 6,
   "metadata": {},
   "outputs": [],
   "source": [
    "#history_dict = history.history\n",
    "#history_dict.keys()"
   ]
  },
  {
   "cell_type": "code",
   "execution_count": 7,
   "metadata": {},
   "outputs": [],
   "source": [
    "#history_dict['val_acc']"
   ]
  },
  {
   "cell_type": "code",
   "execution_count": 8,
   "metadata": {},
   "outputs": [
    {
     "name": "stdout",
     "output_type": "stream",
     "text": [
      "('Test loss:', 16.11809539794922)\n",
      "('Test accuracy:', 0.0)\n"
     ]
    }
   ],
   "source": [
    "score = model.evaluate(x_test, y_test, verbose=0)\n",
    "print('Test loss:', score[0])\n",
    "print('Test accuracy:', score[1])"
   ]
  },
  {
   "cell_type": "code",
   "execution_count": null,
   "metadata": {},
   "outputs": [],
   "source": []
  },
  {
   "cell_type": "code",
   "execution_count": null,
   "metadata": {},
   "outputs": [],
   "source": []
  },
  {
   "cell_type": "code",
   "execution_count": null,
   "metadata": {},
   "outputs": [],
   "source": []
  },
  {
   "cell_type": "code",
   "execution_count": null,
   "metadata": {},
   "outputs": [],
   "source": []
  },
  {
   "cell_type": "code",
   "execution_count": null,
   "metadata": {},
   "outputs": [],
   "source": []
  },
  {
   "cell_type": "code",
   "execution_count": null,
   "metadata": {},
   "outputs": [],
   "source": []
  },
  {
   "cell_type": "code",
   "execution_count": null,
   "metadata": {},
   "outputs": [],
   "source": []
  },
  {
   "cell_type": "code",
   "execution_count": null,
   "metadata": {},
   "outputs": [],
   "source": []
  }
 ],
 "metadata": {
  "kernelspec": {
   "display_name": "Python 2",
   "language": "python",
   "name": "python2"
  },
  "language_info": {
   "codemirror_mode": {
    "name": "ipython",
    "version": 2
   },
   "file_extension": ".py",
   "mimetype": "text/x-python",
   "name": "python",
   "nbconvert_exporter": "python",
   "pygments_lexer": "ipython2",
   "version": "2.7.15rc1"
  }
 },
 "nbformat": 4,
 "nbformat_minor": 2
}
